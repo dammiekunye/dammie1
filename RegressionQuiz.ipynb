{
  "nbformat": 4,
  "nbformat_minor": 0,
  "metadata": {
    "colab": {
      "name": "RegressionQuiz.ipynb",
      "provenance": [],
      "authorship_tag": "ABX9TyPMmiFyBvTn2RaEm3rmK3Xn",
      "include_colab_link": true
    },
    "kernelspec": {
      "name": "python3",
      "display_name": "Python 3"
    }
  },
  "cells": [
    {
      "cell_type": "markdown",
      "metadata": {
        "id": "view-in-github",
        "colab_type": "text"
      },
      "source": [
        "<a href=\"https://colab.research.google.com/github/dammiekunye/dammie1/blob/master/RegressionQuiz.ipynb\" target=\"_parent\"><img src=\"https://colab.research.google.com/assets/colab-badge.svg\" alt=\"Open In Colab\"/></a>"
      ]
    },
    {
      "cell_type": "markdown",
      "metadata": {
        "id": "X0hhhFTRLynO",
        "colab_type": "text"
      },
      "source": [
        "Normalising the dataset\n",
        "it is needed to answer some questions"
      ]
    },
    {
      "cell_type": "code",
      "metadata": {
        "id": "z-UPDluqLsHB",
        "colab_type": "code",
        "colab": {}
      },
      "source": [
        "import pandas as pd\n",
        "import seaborn as sns\n",
        "import numpy as np\n",
        "import matplotlib.pyplot as plt\n",
        "from sklearn.linear_model import LinearRegression\n",
        "from sklearn.metrics import r2_score, mean_absolute_error,mean_squared_error\n",
        "import statsmodels.api as sm\n",
        "\n",
        "dataset = pd.read_csv('https://archive.ics.uci.edu/ml/machine-learning-databases/00374/energydata_complete.csv')\n",
        "dataset.describe()\n",
        "dataset.drop(['date','lights'], axis=1) #dropped columns date and light\n",
        "\n",
        "#normalising\n",
        "from sklearn.preprocessing import MinMaxScaler\n",
        "scaler = MinMaxScaler()\n",
        "normalised_data = scaler.fit_transform(dataset.drop(['date','lights'], axis=1) )\n",
        "# or normalised_dataset = pd.DataFrame(scaler.fit_transform(dataset), columns=dataset.columns)\n",
        "print(normalised_data.min(axis=0))\n",
        "print(normalised_data.max(axis=0))\n",
        "# when min and max value is 0 and 1 respectively then the data hasbeen normalised\n",
        "\n",
        "from sklearn.model_selection import train_test_split \n",
        "#70:30 train-test set split with a random state of 42(for reproducibility)\n",
        "#X = pd.DataFrame(np.c_[dataset['T1'].values.reshape(-1,1), dataset['Appliances']], columns=['T1', 'Appliances'])\n",
        "X = dataset['T2'].values.reshape(-1,1)\n",
        "y = dataset['T6'].values.reshape(-1,1)\n",
        "\n",
        "#X = normalised_data\n",
        "#normalised_data['Appliances'] = normalised_data.Appliances.astype(float)\n",
        "#y = normalised_data['Appliances']\n",
        "X_train, X_test, y_train, y_test = train_test_split(X, y, test_size=0.3, random_state=42)\n",
        "regressor = LinearRegression()\n",
        "regressor.fit(X_train, y_train) # fitting the training dataset\n",
        "\n",
        "\n",
        "\n",
        "predictions = regressor.predict(X_test) #makes the predictions by the model\n",
        "r2_score = r2_score(y_test, predictions)\n",
        "round(r2_score, 2)\n",
        "mae = mean_absolute_error(y_test, predictions)\n",
        "round(mae, 2)\n",
        "rss = np.sum(np.square(y_test, predictions))\n",
        "round(rss,2)\n",
        "rmse = np.sqrt(mean_squared_error(y_test, predictions))\n",
        "round(rmse, 3)\n",
        "from sklearn.linear_model import Ridge\n",
        "ridge_reg = Ridge(alpha=0.4)\n",
        "ridge_reg.fit(X_train, y_train)\n",
        "\n",
        "from sklearn.linear_model import Ridge\n",
        "ridge_reg = Ridge(alpha=0.4)\n",
        "ridge_reg.fit(X_test, y_test)\n",
        "rmse = np.sqrt(mean_squared_error(X_test, y_test))\n",
        "round(rmse, 3)\n",
        "from sklearn.linear_model import Lasso\n",
        "import plotly.graph_objects as go\n",
        "lasso_reg = Lasso(alpha=0.001)\n",
        "lasso_reg.fit(X_test, y_test)\n",
        "rmse = np.sqrt(mean_squared_error(X_test, y_test))\n",
        "round(rmse, 3)\n",
        "\n",
        "\n"
      ],
      "execution_count": null,
      "outputs": []
    }
  ]
}