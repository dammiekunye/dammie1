{
  "nbformat": 4,
  "nbformat_minor": 0,
  "metadata": {
    "colab": {
      "name": "Quiz.ipynb",
      "provenance": [],
      "authorship_tag": "ABX9TyPhrq6zPFB5xqFKBrMLCPo+",
      "include_colab_link": true
    },
    "kernelspec": {
      "name": "python3",
      "display_name": "Python 3"
    }
  },
  "cells": [
    {
      "cell_type": "markdown",
      "metadata": {
        "id": "view-in-github",
        "colab_type": "text"
      },
      "source": [
        "<a href=\"https://colab.research.google.com/github/dammiekunye/dammie1/blob/master/Quiz.ipynb\" target=\"_parent\"><img src=\"https://colab.research.google.com/assets/colab-badge.svg\" alt=\"Open In Colab\"/></a>"
      ]
    },
    {
      "cell_type": "code",
      "metadata": {
        "id": "HdvZnMaxydk1",
        "colab_type": "code",
        "colab": {}
      },
      "source": [
        "A = [1,2,3,4,5,6]\n",
        "B = [13,21,34]\n",
        "c = A.append(B)\n",
        "print(c)"
      ],
      "execution_count": null,
      "outputs": []
    },
    {
      "cell_type": "code",
      "metadata": {
        "id": "Z7xSyMN102ny",
        "colab_type": "code",
        "colab": {}
      },
      "source": [
        "import numpy as np\n",
        "np.identity(3)"
      ],
      "execution_count": null,
      "outputs": []
    },
    {
      "cell_type": "code",
      "metadata": {
        "id": "JIpXaAvl1lqW",
        "colab_type": "code",
        "colab": {}
      },
      "source": [
        "import pandas as pd\n",
        "import numpy\n",
        "url= 'https://raw.githubusercontent.com/WalePhenomenon/climate_change/master/fuel_ferc1.csv'\n",
        "fuel_data = pd.read_csv(url,error_bad_lines=False)\n",
        "s = fuel_data[fuel_cost_per_unit_burned']\n",
        "t = np.average(s)\n",
        "print(t)"
      ],
      "execution_count": null,
      "outputs": []
    },
    {
      "cell_type": "code",
      "metadata": {
        "id": "NvpbyTWayerL",
        "colab_type": "code",
        "colab": {}
      },
      "source": [
        "import pandas as pd\n",
        "import numpy\n",
        "import scipy\n",
        "from scipy.stats import skew\n",
        "from scipy.stats import kurtosis\n",
        "import statistics\n",
        "url= 'https://raw.githubusercontent.com/WalePhenomenon/climate_change/master/fuel_ferc1.csv'\n",
        "fuel_data = pd.read_csv(url,error_bad_lines=False)\n",
        "fuel_data.describe(include='all')\n",
        "a = fuel_data['fuel_mmbtu_per_unit']\n",
        "b = fuel_data['fuel_qty_burned']\n",
        "x = numpy.percentile(a,75)\n",
        "y = numpy.std(a)\n",
        "z = scipy.stats.skew(b, axis=0)\n",
        "p =  scipy.stats.kurtosis(b, axis=0)\n",
        "print(x)\n",
        "print(y)\n",
        "print(z)\n",
        "print(p)"
      ],
      "execution_count": null,
      "outputs": []
    }
  ]
}