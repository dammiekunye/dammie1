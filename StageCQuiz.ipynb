{
  "nbformat": 4,
  "nbformat_minor": 0,
  "metadata": {
    "colab": {
      "name": "StageCQuiz.ipynb",
      "provenance": [],
      "collapsed_sections": [],
      "authorship_tag": "ABX9TyMKNF0C5hB3EfFHbBob4EVf",
      "include_colab_link": true
    },
    "kernelspec": {
      "name": "python3",
      "display_name": "Python 3"
    }
  },
  "cells": [
    {
      "cell_type": "markdown",
      "metadata": {
        "id": "view-in-github",
        "colab_type": "text"
      },
      "source": [
        "<a href=\"https://colab.research.google.com/github/dammiekunye/dammie1/blob/master/StageCQuiz.ipynb\" target=\"_parent\"><img src=\"https://colab.research.google.com/assets/colab-badge.svg\" alt=\"Open In Colab\"/></a>"
      ]
    },
    {
      "cell_type": "code",
      "metadata": {
        "id": "ubTSLjIqI3II",
        "colab_type": "code",
        "colab": {}
      },
      "source": [
        "import pandas as pd\n",
        "import numpy as np\n",
        "\n",
        "\n",
        "stabilityData = pd.read_csv('https://raw.githubusercontent.com/rahatUlAin/Electrical-Grid-Stability-Simulated-Data-/master/Data_for_UCI_named.csv')\n",
        "stabilityData.shape\n",
        "stabilityData.drop(columns='stab')\n",
        "X =stabilityData[['g1','g2','g3','g4','tau1','tau2','tau3','tau4','p1','p2','p3','p4']]\n",
        "y = stabilityData['stabf']\n",
        "\n",
        "from sklearn.model_selection import train_test_split\n",
        "x_train, x_test, y_train, y_test = train_test_split(X, y, test_size=0.3, random_state=1)\n",
        "y_train.value_counts()\n",
        "\n",
        "from sklearn.preprocessing import StandardScaler\n",
        "scaler = StandardScaler()\n",
        "scaled_x_train= scaler.fit(x_train,y_train)\n",
        "scaled_x_test= scaler.fit(x_test)\n"
      ],
      "execution_count": null,
      "outputs": []
    },
    {
      "cell_type": "code",
      "metadata": {
        "id": "e4NnyJ2RkfQc",
        "colab_type": "code",
        "colab": {
          "base_uri": "https://localhost:8080/",
          "height": 34
        },
        "outputId": "bd1261ba-3df7-4053-89f4-e255540fa0d2"
      },
      "source": [
        "from sklearn.ensemble import RandomForestClassifier\n",
        "from sklearn.ensemble import ExtraTreesClassifier\n",
        "from sklearn import metrics\n",
        "randomForest = RandomForestClassifier()\n",
        "randomForest.fit(x_train, y_train)\n",
        "y_pred = randomForest.predict(x_test)\n",
        "accuracy = metrics.accuracy_score(y_test, y_pred)\n",
        "print('Accuracy:', accuracy)\n"
      ],
      "execution_count": 43,
      "outputs": [
        {
          "output_type": "stream",
          "text": [
            "Accuracy: 0.9183333333333333\n"
          ],
          "name": "stdout"
        }
      ]
    },
    {
      "cell_type": "code",
      "metadata": {
        "id": "HNhzJavdkjVx",
        "colab_type": "code",
        "colab": {}
      },
      "source": [
        "\n",
        "xtraTree = ExtraTreesClassifier()\n",
        "xtraTree.fit(x_train, y_train)\n",
        "n_estimators = [50, 100, 300, 500, 1000]\n",
        "\n",
        "min_samples_split = [2, 3, 5, 7, 9]\n",
        "\n",
        "min_samples_leaf = [1, 2, 4, 6, 8]\n",
        "\n",
        "max_features = ['auto', 'sqrt', 'log2', None] \n",
        "\n",
        "hyperparameter_grid = {'n_estimators': n_estimators,\n",
        "\n",
        "                       'min_samples_leaf': min_samples_leaf,\n",
        "\n",
        "                       'min_samples_split': min_samples_split,\n",
        "\n",
        "                       'max_features': max_features}"
      ],
      "execution_count": null,
      "outputs": []
    },
    {
      "cell_type": "code",
      "metadata": {
        "id": "ltavyIl_kmUi",
        "colab_type": "code",
        "colab": {}
      },
      "source": [
        "\n",
        "from xgboost import XGBClassifier\n",
        "xgmodel = XGBClassifier()\n",
        "xgmodel.fit(x_train, y_train)"
      ],
      "execution_count": null,
      "outputs": []
    },
    {
      "cell_type": "code",
      "metadata": {
        "id": "2nRcOaHEkqlB",
        "colab_type": "code",
        "colab": {}
      },
      "source": [
        "import lightgbm as ltb\n",
        "ligbmodel = ltb.LGBMRegressor()\n",
        "ligbmodel.fit(X_train, y_train)"
      ],
      "execution_count": null,
      "outputs": []
    }
  ]
}